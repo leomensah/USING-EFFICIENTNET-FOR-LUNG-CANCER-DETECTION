{
  "nbformat": 4,
  "nbformat_minor": 0,
  "metadata": {
    "colab": {
      "name": "EFFICIENT NET SEVEN.ipynb",
      "provenance": [],
      "machine_shape": "hm",
      "mount_file_id": "1mKh3r0edA7PQwBmCM3vvT9SA1d7CONSK",
      "authorship_tag": "ABX9TyMuyzbLsTTDavVsBkMFMjOB",
      "include_colab_link": true
    },
    "kernelspec": {
      "name": "python3",
      "display_name": "Python 3"
    },
    "language_info": {
      "name": "python"
    },
    "accelerator": "GPU",
    "widgets": {
      "application/vnd.jupyter.widget-state+json": {
        "795cea1765bf4cb9ae1c729e7d4a1721": {
          "model_module": "@jupyter-widgets/controls",
          "model_name": "HBoxModel",
          "model_module_version": "1.5.0",
          "state": {
            "_dom_classes": [],
            "_model_module": "@jupyter-widgets/controls",
            "_model_module_version": "1.5.0",
            "_model_name": "HBoxModel",
            "_view_count": null,
            "_view_module": "@jupyter-widgets/controls",
            "_view_module_version": "1.5.0",
            "_view_name": "HBoxView",
            "box_style": "",
            "children": [
              "IPY_MODEL_8643ac51ca1741c18bafb31ffe1a99b7",
              "IPY_MODEL_8942583104154e7e9d9de99a6625b676",
              "IPY_MODEL_8e229ea3ab664c97a31ab2ba087dcaba"
            ],
            "layout": "IPY_MODEL_165e0b995baa407ba463955a8b5ed5af"
          }
        },
        "8643ac51ca1741c18bafb31ffe1a99b7": {
          "model_module": "@jupyter-widgets/controls",
          "model_name": "HTMLModel",
          "model_module_version": "1.5.0",
          "state": {
            "_dom_classes": [],
            "_model_module": "@jupyter-widgets/controls",
            "_model_module_version": "1.5.0",
            "_model_name": "HTMLModel",
            "_view_count": null,
            "_view_module": "@jupyter-widgets/controls",
            "_view_module_version": "1.5.0",
            "_view_name": "HTMLView",
            "description": "",
            "description_tooltip": null,
            "layout": "IPY_MODEL_c65aa5eb8e714d4a9d04d7b17bdc9d69",
            "placeholder": "​",
            "style": "IPY_MODEL_7bea4e365bd04c7f88f0d98d0cff81e5",
            "value": "100%"
          }
        },
        "8942583104154e7e9d9de99a6625b676": {
          "model_module": "@jupyter-widgets/controls",
          "model_name": "FloatProgressModel",
          "model_module_version": "1.5.0",
          "state": {
            "_dom_classes": [],
            "_model_module": "@jupyter-widgets/controls",
            "_model_module_version": "1.5.0",
            "_model_name": "FloatProgressModel",
            "_view_count": null,
            "_view_module": "@jupyter-widgets/controls",
            "_view_module_version": "1.5.0",
            "_view_name": "ProgressView",
            "bar_style": "success",
            "description": "",
            "description_tooltip": null,
            "layout": "IPY_MODEL_794f720d31674e8b9543482aa7f08a87",
            "max": 266860719,
            "min": 0,
            "orientation": "horizontal",
            "style": "IPY_MODEL_0fde99d29aa244b2858e189e76f31ffc",
            "value": 266860719
          }
        },
        "8e229ea3ab664c97a31ab2ba087dcaba": {
          "model_module": "@jupyter-widgets/controls",
          "model_name": "HTMLModel",
          "model_module_version": "1.5.0",
          "state": {
            "_dom_classes": [],
            "_model_module": "@jupyter-widgets/controls",
            "_model_module_version": "1.5.0",
            "_model_name": "HTMLModel",
            "_view_count": null,
            "_view_module": "@jupyter-widgets/controls",
            "_view_module_version": "1.5.0",
            "_view_name": "HTMLView",
            "description": "",
            "description_tooltip": null,
            "layout": "IPY_MODEL_d4182664e29c4122b4c8d989732f72be",
            "placeholder": "​",
            "style": "IPY_MODEL_0119153b87d84dd7bb55196fe951222b",
            "value": " 254M/254M [00:32&lt;00:00, 10.5MB/s]"
          }
        },
        "165e0b995baa407ba463955a8b5ed5af": {
          "model_module": "@jupyter-widgets/base",
          "model_name": "LayoutModel",
          "model_module_version": "1.2.0",
          "state": {
            "_model_module": "@jupyter-widgets/base",
            "_model_module_version": "1.2.0",
            "_model_name": "LayoutModel",
            "_view_count": null,
            "_view_module": "@jupyter-widgets/base",
            "_view_module_version": "1.2.0",
            "_view_name": "LayoutView",
            "align_content": null,
            "align_items": null,
            "align_self": null,
            "border": null,
            "bottom": null,
            "display": null,
            "flex": null,
            "flex_flow": null,
            "grid_area": null,
            "grid_auto_columns": null,
            "grid_auto_flow": null,
            "grid_auto_rows": null,
            "grid_column": null,
            "grid_gap": null,
            "grid_row": null,
            "grid_template_areas": null,
            "grid_template_columns": null,
            "grid_template_rows": null,
            "height": null,
            "justify_content": null,
            "justify_items": null,
            "left": null,
            "margin": null,
            "max_height": null,
            "max_width": null,
            "min_height": null,
            "min_width": null,
            "object_fit": null,
            "object_position": null,
            "order": null,
            "overflow": null,
            "overflow_x": null,
            "overflow_y": null,
            "padding": null,
            "right": null,
            "top": null,
            "visibility": null,
            "width": null
          }
        },
        "c65aa5eb8e714d4a9d04d7b17bdc9d69": {
          "model_module": "@jupyter-widgets/base",
          "model_name": "LayoutModel",
          "model_module_version": "1.2.0",
          "state": {
            "_model_module": "@jupyter-widgets/base",
            "_model_module_version": "1.2.0",
            "_model_name": "LayoutModel",
            "_view_count": null,
            "_view_module": "@jupyter-widgets/base",
            "_view_module_version": "1.2.0",
            "_view_name": "LayoutView",
            "align_content": null,
            "align_items": null,
            "align_self": null,
            "border": null,
            "bottom": null,
            "display": null,
            "flex": null,
            "flex_flow": null,
            "grid_area": null,
            "grid_auto_columns": null,
            "grid_auto_flow": null,
            "grid_auto_rows": null,
            "grid_column": null,
            "grid_gap": null,
            "grid_row": null,
            "grid_template_areas": null,
            "grid_template_columns": null,
            "grid_template_rows": null,
            "height": null,
            "justify_content": null,
            "justify_items": null,
            "left": null,
            "margin": null,
            "max_height": null,
            "max_width": null,
            "min_height": null,
            "min_width": null,
            "object_fit": null,
            "object_position": null,
            "order": null,
            "overflow": null,
            "overflow_x": null,
            "overflow_y": null,
            "padding": null,
            "right": null,
            "top": null,
            "visibility": null,
            "width": null
          }
        },
        "7bea4e365bd04c7f88f0d98d0cff81e5": {
          "model_module": "@jupyter-widgets/controls",
          "model_name": "DescriptionStyleModel",
          "model_module_version": "1.5.0",
          "state": {
            "_model_module": "@jupyter-widgets/controls",
            "_model_module_version": "1.5.0",
            "_model_name": "DescriptionStyleModel",
            "_view_count": null,
            "_view_module": "@jupyter-widgets/base",
            "_view_module_version": "1.2.0",
            "_view_name": "StyleView",
            "description_width": ""
          }
        },
        "794f720d31674e8b9543482aa7f08a87": {
          "model_module": "@jupyter-widgets/base",
          "model_name": "LayoutModel",
          "model_module_version": "1.2.0",
          "state": {
            "_model_module": "@jupyter-widgets/base",
            "_model_module_version": "1.2.0",
            "_model_name": "LayoutModel",
            "_view_count": null,
            "_view_module": "@jupyter-widgets/base",
            "_view_module_version": "1.2.0",
            "_view_name": "LayoutView",
            "align_content": null,
            "align_items": null,
            "align_self": null,
            "border": null,
            "bottom": null,
            "display": null,
            "flex": null,
            "flex_flow": null,
            "grid_area": null,
            "grid_auto_columns": null,
            "grid_auto_flow": null,
            "grid_auto_rows": null,
            "grid_column": null,
            "grid_gap": null,
            "grid_row": null,
            "grid_template_areas": null,
            "grid_template_columns": null,
            "grid_template_rows": null,
            "height": null,
            "justify_content": null,
            "justify_items": null,
            "left": null,
            "margin": null,
            "max_height": null,
            "max_width": null,
            "min_height": null,
            "min_width": null,
            "object_fit": null,
            "object_position": null,
            "order": null,
            "overflow": null,
            "overflow_x": null,
            "overflow_y": null,
            "padding": null,
            "right": null,
            "top": null,
            "visibility": null,
            "width": null
          }
        },
        "0fde99d29aa244b2858e189e76f31ffc": {
          "model_module": "@jupyter-widgets/controls",
          "model_name": "ProgressStyleModel",
          "model_module_version": "1.5.0",
          "state": {
            "_model_module": "@jupyter-widgets/controls",
            "_model_module_version": "1.5.0",
            "_model_name": "ProgressStyleModel",
            "_view_count": null,
            "_view_module": "@jupyter-widgets/base",
            "_view_module_version": "1.2.0",
            "_view_name": "StyleView",
            "bar_color": null,
            "description_width": ""
          }
        },
        "d4182664e29c4122b4c8d989732f72be": {
          "model_module": "@jupyter-widgets/base",
          "model_name": "LayoutModel",
          "model_module_version": "1.2.0",
          "state": {
            "_model_module": "@jupyter-widgets/base",
            "_model_module_version": "1.2.0",
            "_model_name": "LayoutModel",
            "_view_count": null,
            "_view_module": "@jupyter-widgets/base",
            "_view_module_version": "1.2.0",
            "_view_name": "LayoutView",
            "align_content": null,
            "align_items": null,
            "align_self": null,
            "border": null,
            "bottom": null,
            "display": null,
            "flex": null,
            "flex_flow": null,
            "grid_area": null,
            "grid_auto_columns": null,
            "grid_auto_flow": null,
            "grid_auto_rows": null,
            "grid_column": null,
            "grid_gap": null,
            "grid_row": null,
            "grid_template_areas": null,
            "grid_template_columns": null,
            "grid_template_rows": null,
            "height": null,
            "justify_content": null,
            "justify_items": null,
            "left": null,
            "margin": null,
            "max_height": null,
            "max_width": null,
            "min_height": null,
            "min_width": null,
            "object_fit": null,
            "object_position": null,
            "order": null,
            "overflow": null,
            "overflow_x": null,
            "overflow_y": null,
            "padding": null,
            "right": null,
            "top": null,
            "visibility": null,
            "width": null
          }
        },
        "0119153b87d84dd7bb55196fe951222b": {
          "model_module": "@jupyter-widgets/controls",
          "model_name": "DescriptionStyleModel",
          "model_module_version": "1.5.0",
          "state": {
            "_model_module": "@jupyter-widgets/controls",
            "_model_module_version": "1.5.0",
            "_model_name": "DescriptionStyleModel",
            "_view_count": null,
            "_view_module": "@jupyter-widgets/base",
            "_view_module_version": "1.2.0",
            "_view_name": "StyleView",
            "description_width": ""
          }
        }
      }
    }
  },
  "cells": [
    {
      "cell_type": "markdown",
      "metadata": {
        "id": "view-in-github",
        "colab_type": "text"
      },
      "source": [
        "<a href=\"https://colab.research.google.com/github/leomensah/USING-EFFICIENTNET-FOR-LUNG-CANCER-DETECTION/blob/main/EFFICIENT_NET_SEVEN.ipynb\" target=\"_parent\"><img src=\"https://colab.research.google.com/assets/colab-badge.svg\" alt=\"Open In Colab\"/></a>"
      ]
    },
    {
      "cell_type": "code",
      "execution_count": null,
      "metadata": {
        "id": "w-ImIGP-ZhYB"
      },
      "outputs": [],
      "source": [
        "!pip install albumentations==0.4.6"
      ]
    },
    {
      "cell_type": "code",
      "source": [
        "import os\n",
        "import numpy as np\n",
        "import glob\n",
        "from PIL import Image\n",
        "import argparse\n",
        "import os\n",
        "\n",
        "import torch\n",
        "from torch.utils.data.dataset import Dataset\n",
        "import torchvision.transforms.functional as TF\n",
        "import torchvision\n",
        "from torchvision import transforms\n",
        "\n",
        "import albumentations as albu\n",
        "from albumentations.pytorch import ToTensorV2\n",
        "from albumentations import OneOf,Compose\n",
        "\n",
        "class ClassifierDataset(Dataset):\n",
        "    def __init__(self, IMAGES_PATHS,label,Albumentation=False):\n",
        "      self.image_paths = IMAGES_PATHS\n",
        "      self.labels = label\n",
        "      self.albumentation = Albumentation\n",
        "\n",
        "      self.albu_transformations =  albu.Compose([\n",
        "          albu.Normalize(),\n",
        "          ToTensorV2(),\n",
        "          OneOf([albu.HorizontalFlip(),\n",
        "                  albu.VerticalFlip(),\n",
        "                  albu.RandomRotate90(),\n",
        "                  ],p=0.9)\n",
        "          #albu.ElasticTransform(alpha=1.1,alpha_affine=0.5,sigma=5,p=0.15),\n",
        "      ])\n",
        "      self.transformations = transforms.Compose([\n",
        "          #transforms.Grayscale(3),\n",
        "          transforms.ToTensor(),\n",
        "          transforms.Normalize([0.485, 0.456, 0.406], [0.229, 0.224, 0.225])])\n",
        "\n",
        "    def transform(self, image):\n",
        "      #Transform to tensor\n",
        "      if self.albumentation:\n",
        "          augmented=  self.albu_transformations(image=image)\n",
        "          image = augmented['image']\n",
        "      else:\n",
        "          image = self.transformations(image)\n",
        "      image= image.type(torch.FloatTensor),\n",
        "      return image\n",
        "\n",
        "    def __getitem__(self, index):\n",
        "      image = np.load(self.image_paths[index])\n",
        "      image = self.transform(image)\n",
        "      return image[0],self.labels[index]\n",
        "\n",
        "    def __len__(self):\n",
        "      return len(self.image_paths)\n",
        "\n",
        "def str2bool(v):\n",
        "    if v.lower() in ['true', 1]:\n",
        "        return True\n",
        "    elif v.lower() in ['false', 0]:\n",
        "        return False\n",
        "    else:\n",
        "        raise argparse.ArgumentTypeError('Boolean value expected.')\n",
        "\n",
        "def count_params(model):\n",
        "    return sum(p.numel() for p in model.parameters() if p.requires_grad)\n",
        "\n",
        "class AverageMeter(object):\n",
        "    \"\"\"Computes and stores the average and current value\"\"\"\n",
        "\n",
        "    def __init__(self):\n",
        "        self.reset()\n",
        "\n",
        "    def reset(self):\n",
        "        self.val = 0\n",
        "        self.avg = 0\n",
        "        self.sum = 0\n",
        "        self.count = 0\n",
        "\n",
        "    def update(self, val, n=1):\n",
        "        self.val = val\n",
        "        self.sum += val * n\n",
        "        self.count += n\n",
        "        self.avg = self.sum / self.count\n",
        "\n",
        "def load_directories(root_dir):\n",
        "    images_list = os.listdir(root_dir)\n",
        "    images_list.sort()\n",
        "    return [root_dir+ x for x in images_list]\n",
        "\n",
        "import numpy as np\n",
        "import torch\n",
        "import torch.nn.functional as F\n",
        "\n",
        "def Accuracy(output, label):\n",
        "  total = 0\n",
        "  correct =0\n",
        "  output_prob = (output>0.5).int()\n",
        "  correct += torch.sum(output_prob==label).item()\n",
        "  total += len(label)\n",
        "\n",
        "  return  correct / total\n",
        "\n",
        "def Confusion_matrix(output, label):\n",
        "  total = 0\n",
        "  smooth = 0.1\n",
        "\n",
        "  output_prob = (output>0.5).int()\n",
        "  label = label.int()\n",
        "\n",
        "  conf_matrix = torch.zeros(2, 2)\n",
        "  for t, p in zip(label, output_prob):\n",
        "      conf_matrix[t, p] += 1\n",
        "  TP = conf_matrix[1,1].item()\n",
        "  TN = conf_matrix[0,0].item()\n",
        "  FP = conf_matrix[0,1].item()\n",
        "  FN = conf_matrix[1,0].item()\n",
        "\n",
        "  total += len(label)\n",
        "  accuracy = (TP+TN)/total\n",
        "  sensitivity = TP / (TP+FN+ smooth)\n",
        "  specificity = TN / (TN+FP+ smooth)\n",
        "  \n",
        "  return  accuracy, sensitivity, specificity\n",
        "\n",
        "def Confusion_matrix2(output, label):\n",
        "  total = 0\n",
        "  smooth = 0.1\n",
        "\n",
        "  output_prob = (output>0.5).int()\n",
        "  label = label.int()\n",
        "\n",
        "  conf_matrix = torch.zeros(2, 2)\n",
        "  for t, p in zip(label, output_prob):\n",
        "      conf_matrix[t, p] += 1\n",
        "  TP = conf_matrix[1,1].item()\n",
        "  TN = conf_matrix[0,0].item()\n",
        "  FP = conf_matrix[0,1].item()\n",
        "  FN = conf_matrix[1,0].item()\n",
        "\n",
        "  return  TP,TN,FN,FP"
      ],
      "metadata": {
        "id": "bT34QC8Bd5ac"
      },
      "execution_count": null,
      "outputs": []
    },
    {
      "cell_type": "markdown",
      "source": [
        "## **TRAINING THE CLASSIFIER**"
      ],
      "metadata": {
        "id": "4FGQsiztd9y8"
      }
    },
    {
      "cell_type": "code",
      "source": [
        "!pip install efficientnet_pytorch"
      ],
      "metadata": {
        "colab": {
          "base_uri": "https://localhost:8080/"
        },
        "id": "wmgPmRuZeCBl",
        "outputId": "6d288755-fb5d-4472-8110-91fcd4ee92dd"
      },
      "execution_count": null,
      "outputs": [
        {
          "output_type": "stream",
          "name": "stdout",
          "text": [
            "Collecting efficientnet_pytorch\n",
            "  Downloading efficientnet_pytorch-0.7.1.tar.gz (21 kB)\n",
            "Requirement already satisfied: torch in /usr/local/lib/python3.7/dist-packages (from efficientnet_pytorch) (1.10.0+cu111)\n",
            "Requirement already satisfied: typing-extensions in /usr/local/lib/python3.7/dist-packages (from torch->efficientnet_pytorch) (3.10.0.2)\n",
            "Building wheels for collected packages: efficientnet-pytorch\n",
            "  Building wheel for efficientnet-pytorch (setup.py) ... \u001b[?25l\u001b[?25hdone\n",
            "  Created wheel for efficientnet-pytorch: filename=efficientnet_pytorch-0.7.1-py3-none-any.whl size=16446 sha256=7c281a71ac1e30af85437b6955f068681f19c4d2635fa859283d52ccf0a31675\n",
            "  Stored in directory: /root/.cache/pip/wheels/0e/cc/b2/49e74588263573ff778da58cc99b9c6349b496636a7e165be6\n",
            "Successfully built efficientnet-pytorch\n",
            "Installing collected packages: efficientnet-pytorch\n",
            "Successfully installed efficientnet-pytorch-0.7.1\n"
          ]
        }
      ]
    },
    {
      "cell_type": "code",
      "source": [
        "import pandas as pd\n",
        "import numpy as np\n",
        "import argparse\n",
        "import os\n",
        "from collections import OrderedDict\n",
        "from glob import glob\n",
        "import pickle\n",
        "from tqdm import tqdm\n",
        "from sklearn.model_selection import train_test_split\n",
        "import yaml\n",
        "\n",
        "import torch\n",
        "import torch.backends.cudnn as cudnn\n",
        "import torchvision\n",
        "import torch.nn as nn\n",
        "import torch.optim as optim\n",
        "from torch.optim import lr_scheduler\n",
        "\n",
        "from torchvision import datasets, models, transforms\n",
        "from PIL import Image\n",
        "from efficientnet_pytorch import EfficientNet\n",
        "\n",
        "def train(train_loader,model,criterion,optimizer):\n",
        "    avg_meters = {'loss': AverageMeter(),\n",
        "                'accuracy': AverageMeter(),\n",
        "                'sensitivity':AverageMeter(),\n",
        "                'specificity': AverageMeter()}\n",
        "\n",
        "    model.train()\n",
        "    pbar = tqdm(total=len(train_loader))\n",
        "    for images, labels in train_loader:\n",
        "        images = images.cuda()\n",
        "        labels = labels.cuda()\n",
        "\n",
        "        outputs = model(images)\n",
        "        outputs = outputs.view(-1)\n",
        "        labels = labels.type_as(outputs)\n",
        "        loss = criterion(outputs, labels)\n",
        "        accuracy, sensitivity, specificity = Confusion_matrix(outputs,labels)\n",
        "        #print(loss)\n",
        "\n",
        "        # compute gradient and do optimizing step\n",
        "        optimizer.zero_grad()\n",
        "        loss.backward()\n",
        "        optimizer.step()\n",
        "\n",
        "        avg_meters['loss'].update(loss.item(),images.size(0))\n",
        "        avg_meters['accuracy'].update(accuracy,images.size(0))\n",
        "        avg_meters['sensitivity'].update(sensitivity,images.size(0))\n",
        "        avg_meters['specificity'].update(specificity,images.size(0))\n",
        "\n",
        "        postfix = OrderedDict([\n",
        "            ('loss', avg_meters['loss'].avg),\n",
        "            ('accuracy', avg_meters['accuracy'].avg),\n",
        "            ('sensitivity', avg_meters['sensitivity'].avg),\n",
        "            ('specificity', avg_meters['specificity'].avg)\n",
        "        ])\n",
        "        pbar.set_postfix(postfix)\n",
        "        pbar.update(1)\n",
        "    pbar.close()\n",
        "\n",
        "    return OrderedDict([('loss', avg_meters['loss'].avg),\n",
        "                        ('accuracy', avg_meters['accuracy'].avg),\n",
        "                        ('sensitivity', avg_meters['sensitivity'].avg),\n",
        "                        ('specificity', avg_meters['specificity'].avg),])\n",
        "    \n",
        "def validate(val_loader,model,criterion):\n",
        "    avg_meters = {'loss': AverageMeter(),\n",
        "                'accuracy': AverageMeter(),\n",
        "                'sensitivity':AverageMeter(),\n",
        "                'specificity': AverageMeter()}\n",
        "    model.eval()\n",
        "\n",
        "    pbar = tqdm(total=len(val_loader))\n",
        "    for images, labels in val_loader:\n",
        "        images = images.cuda()\n",
        "        labels = labels.cuda()\n",
        "\n",
        "        outputs = model(images)\n",
        "        outputs = outputs.view(-1)\n",
        "        labels = labels.type_as(outputs)\n",
        "        loss = criterion(outputs, labels)\n",
        "        accuracy, sensitivity, specificity = Confusion_matrix(outputs,labels)\n",
        "\n",
        "        avg_meters['loss'].update(loss.item(),images.size(0))\n",
        "        avg_meters['accuracy'].update(accuracy,images.size(0))\n",
        "        avg_meters['sensitivity'].update(sensitivity,images.size(0))\n",
        "        avg_meters['specificity'].update(specificity,images.size(0))\n",
        "\n",
        "        postfix = OrderedDict([\n",
        "            ('loss', avg_meters['loss'].avg),\n",
        "            ('accuracy', avg_meters['accuracy'].avg),\n",
        "            ('sensitivity', avg_meters['sensitivity'].avg),\n",
        "            ('specificity', avg_meters['specificity'].avg)\n",
        "        ])\n",
        "\n",
        "        pbar.set_postfix(postfix)\n",
        "        pbar.update(1)\n",
        "    pbar.close()\n",
        "\n",
        "    return OrderedDict([('loss', avg_meters['loss'].avg),\n",
        "                        ('accuracy', avg_meters['accuracy'].avg),\n",
        "                        ('sensitivity', avg_meters['sensitivity'].avg),\n",
        "                        ('specificity', avg_meters['specificity'].avg),])"
      ],
      "metadata": {
        "id": "apHzKYKYeEkL"
      },
      "execution_count": null,
      "outputs": []
    },
    {
      "cell_type": "code",
      "source": [
        "# Model Output directory\n",
        "OUTPUT_DIR = '/content/drive/MyDrive/data/Classification/model_output/'\n",
        "filename = 7\n",
        "epochs = 200\n",
        "batch_size = 24\n",
        "early_stopping = 30\n",
        "num_workers = 2\n",
        "optimizer = 'Adam'\n",
        "learning_rate = 1e-6\n",
        "momentum = 0.9\n",
        "weight_decay = 1e-4\n",
        "\n",
        "\n",
        "os.makedirs(OUTPUT_DIR+'efficientnetb{}'.format(filename),exist_ok=True)\n",
        "print('Made directory called efficientnetb{}'.format(filename))\n",
        "\n",
        "print('-' * 20)\n",
        "\n",
        "# Data directory\n",
        "TRAIN_DIR = '/content/drive/MyDrive/data/Efficient_net/train/'\n",
        "VAL_DIR = '/content/drive/MyDrive/data/Efficient_net/val/'\n",
        "CLEAN_TRAIN_DIR ='/content/drive/MyDrive/data/Efficient_net/clean_train/'\n",
        "CLEAN_VAL_DIR = '/content/drive/MyDrive/data/Efficient_net/clean_val/'\n",
        "LABEL_DIR = '/content/drive/MyDrive/data/Efficient_net/label/'\n",
        "\n",
        "with open(LABEL_DIR+'train.txt','rb') as fp:\n",
        "  train_label = pickle.load(fp)\n",
        "with open(LABEL_DIR+'val.txt','rb') as fp:\n",
        "  val_label = pickle.load(fp)\n",
        "with open(LABEL_DIR+'clean_train.txt','rb') as fp:\n",
        "  clean_train_label = pickle.load(fp)\n",
        "with open(LABEL_DIR+'clean_val.txt','rb') as fp:\n",
        "  clean_val_label = pickle.load(fp)\n",
        "\n",
        "# Get image files path as list\n",
        "train_image_paths = load_directories(TRAIN_DIR)\n",
        "val_image_paths = load_directories(VAL_DIR)\n",
        "clean_train_images_paths = load_directories(CLEAN_TRAIN_DIR)\n",
        "clean_val_images_paths = load_directories(CLEAN_VAL_DIR)\n",
        "\n",
        "train_image_paths.extend(clean_train_images_paths)\n",
        "val_image_paths.extend(clean_val_images_paths)\n",
        "train_label.extend(clean_train_label)\n",
        "val_label.extend(clean_val_label)\n",
        "\n",
        "print(\"=\"*50)\n",
        "print(\"The length of image are train: {} validation: {}\".format(len(train_image_paths),len(val_image_paths)))\n",
        "\n",
        "print(\"============================TRAINING===========================================\")\n",
        "print(\"Cancer nodules:{} Non Cancer nodules:{}\".format(np.sum(train_label),len(train_label)-np.sum(train_label)))\n",
        "print(\"Ratio is {:4f}\".format(np.sum(train_label)/(len(train_label)-np.sum(train_label))))\n",
        "print(\"============================VALIDATION=========================================\")\n",
        "print(\"Cancer nodules:{} Non Cancer nodules:{}\".format(np.sum(val_label),len(val_label)-np.sum(val_label)))\n",
        "print(\"Ratio is {:4f}\".format(np.sum(val_label)/(len(val_label)-np.sum(val_label))))\n",
        "# Create Dataset\n",
        "train_dataset = ClassifierDataset(train_image_paths,train_label)\n",
        "val_dataset = ClassifierDataset(val_image_paths,val_label)\n",
        "\n",
        "# Model\n",
        "cudnn.benchmark = True\n",
        "model = EfficientNet.from_pretrained('efficientnet-b{}'.format(filename))\n",
        "\n",
        "#Fine tuning top layers\n",
        "num_ftrs = model._fc.in_features\n",
        "model._fc = nn.Sequential(nn.Linear(num_ftrs,1),\n",
        "                            nn.Sigmoid())\n",
        "\n",
        "criterion = nn.BCEWithLogitsLoss().cuda()\n",
        "\n",
        "\n",
        "if torch.cuda.device_count() > 1:\n",
        "    print(\"Let's use\", torch.cuda.device_count(), \"GPUs!\")\n",
        "    model = nn.DataParallel(model)\n",
        "model = model.cuda()\n",
        "params = filter(lambda p: p.requires_grad, model.parameters())\n",
        "optimizer = optim.Adam(params, lr=learning_rate, weight_decay=weight_decay)\n",
        "\n",
        "#if config['optimizer'] == 'Adam':\n",
        "#elif config['optimizer'] == 'SGD':\n",
        "#    optimizer = optim.SGD(params, lr=config['lr'], momentum=config['momentum'],nesterov=config['nesterov'], weight_decay=config['weight_decay'])\n",
        "#exp_lr_scheduler = lr_scheduler.StepLR(optimizer, step_size=7, gamma=0.1)\n",
        "# Create Dataloader\n",
        "train_loader = torch.utils.data.DataLoader(\n",
        "    train_dataset,\n",
        "    batch_size=12,\n",
        "    shuffle=True,\n",
        "    pin_memory=True,\n",
        "    drop_last=True,\n",
        "    num_workers=6)\n",
        "val_loader = torch.utils.data.DataLoader(\n",
        "    val_dataset,\n",
        "    batch_size=12,\n",
        "    shuffle=False,\n",
        "    pin_memory=True,\n",
        "    drop_last=False,\n",
        "    num_workers=6)\n",
        "\n",
        "log= pd.DataFrame(index=[],columns= ['epoch', 'loss', 'accuracy','sensitivity','specificity,',\n",
        "                                    'val_loss', 'val_accuracy','val_sensitivity','val_specificity'])\n",
        "\n",
        "best_loss= 10\n",
        "trigger = 0\n",
        "\n",
        "for epoch in range(epochs):\n",
        "\n",
        "    # train for one epoch\n",
        "    train_log = train(train_loader, model, criterion, optimizer)\n",
        "    # evaluate on validation set\n",
        "    val_log = validate(val_loader, model, criterion)\n",
        "\n",
        "    print('Training epoch [{}/{}], Training BCE loss:{:.4f}, Training accuracy:{:.4f}, Training sensitivity:{:.4f}, Training specificity:{:.4f}, \\\n",
        "                Validation BCE loss:{:.4f}, Validation accuracy:{:.4f}, Validation sensitivity:{:.4f}, Validation specificity:{:.4f},'.format( \n",
        "        epoch + 1, epochs, train_log['loss'], train_log['accuracy'], train_log['sensitivity'], train_log['specificity'],val_log['loss'], val_log['accuracy'],val_log['sensitivity'], val_log['specificity']))\n",
        "\n",
        "    tmp = pd.Series([\n",
        "        epoch,\n",
        "        train_log['loss'],\n",
        "        train_log['accuracy'],\n",
        "        train_log['sensitivity'],\n",
        "        train_log['specificity'],\n",
        "        val_log['loss'],\n",
        "        val_log['accuracy'],\n",
        "        val_log['sensitivity'],\n",
        "        val_log['specificity'],\n",
        "    ], index=['epoch', 'loss', 'accuracy','sensitivity','specificity,','val_loss', 'val_accuracy','val_sensitivity','val_specificity'])\n",
        "\n",
        "    log = log.append(tmp, ignore_index=True)\n",
        "    log.to_csv(OUTPUT_DIR+'efficientnetb{}/log.csv'.format(filename), index=False)\n",
        "\n",
        "    trigger += 1\n",
        "\n",
        "    if val_log['loss'] < best_loss:\n",
        "        torch.save(model.state_dict(), OUTPUT_DIR+'efficientnetb{}/model.pth'.format(filename))\n",
        "        best_loss= val_log['loss']\n",
        "        print(\"=> saved best model as validation loss is greater than previous best loss\")\n",
        "        trigger = 0\n",
        "\n",
        "    # early stopping\n",
        "    if early_stopping >= 0 and trigger >= early_stopping:\n",
        "        print(\"=> early stopping\")\n",
        "        break\n",
        "\n",
        "    torch.cuda.empty_cache()"
      ],
      "metadata": {
        "colab": {
          "base_uri": "https://localhost:8080/"
        },
        "id": "XWSCvgBLeLXd",
        "outputId": "161d919f-297d-489b-b0d9-b5edde04f08a"
      },
      "execution_count": null,
      "outputs": [
        {
          "output_type": "stream",
          "name": "stdout",
          "text": [
            "Made directory called efficientnetb7\n",
            "--------------------\n",
            "==================================================\n",
            "The length of image are train: 5920 validation: 2042\n",
            "============================TRAINING===========================================\n",
            "Cancer nodules:3146 Non Cancer nodules:2774\n",
            "Ratio is 1.134102\n",
            "============================VALIDATION=========================================\n",
            "Cancer nodules:914 Non Cancer nodules:1128\n",
            "Ratio is 0.810284\n",
            "Loaded pretrained weights for efficientnet-b7\n"
          ]
        },
        {
          "output_type": "stream",
          "name": "stderr",
          "text": [
            "/usr/local/lib/python3.7/dist-packages/torch/utils/data/dataloader.py:481: UserWarning: This DataLoader will create 6 worker processes in total. Our suggested max number of worker in current system is 4, which is smaller than what this DataLoader is going to create. Please be aware that excessive worker creation might get DataLoader running slow or even freeze, lower the worker number to avoid potential slowness/freeze if necessary.\n",
            "  cpuset_checked))\n",
            "100%|██████████| 493/493 [03:43<00:00,  2.21it/s, loss=0.706, accuracy=0.556, sensitivity=0.568, specificity=0.536]\n",
            "100%|██████████| 171/171 [02:01<00:00,  1.41it/s, loss=0.747, accuracy=0.555, sensitivity=0.316, specificity=0.393]\n"
          ]
        },
        {
          "output_type": "stream",
          "name": "stdout",
          "text": [
            "Training epoch [1/200], Training BCE loss:0.7056, Training accuracy:0.5565, Training sensitivity:0.5676, Training specificity:0.5363,                 Validation BCE loss:0.7471, Validation accuracy:0.5548, Validation sensitivity:0.3164, Validation specificity:0.3934,\n",
            "=> saved best model as validation loss is greater than previous best loss\n"
          ]
        },
        {
          "output_type": "stream",
          "name": "stderr",
          "text": [
            "100%|██████████| 493/493 [03:42<00:00,  2.21it/s, loss=0.7, accuracy=0.619, sensitivity=0.623, specificity=0.613]\n",
            "100%|██████████| 171/171 [00:18<00:00,  9.17it/s, loss=0.741, accuracy=0.614, sensitivity=0.324, specificity=0.454]\n"
          ]
        },
        {
          "output_type": "stream",
          "name": "stdout",
          "text": [
            "Training epoch [2/200], Training BCE loss:0.6998, Training accuracy:0.6190, Training sensitivity:0.6225, Training specificity:0.6126,                 Validation BCE loss:0.7413, Validation accuracy:0.6141, Validation sensitivity:0.3243, Validation specificity:0.4544,\n",
            "=> saved best model as validation loss is greater than previous best loss\n"
          ]
        },
        {
          "output_type": "stream",
          "name": "stderr",
          "text": [
            "100%|██████████| 493/493 [03:42<00:00,  2.22it/s, loss=0.692, accuracy=0.67, sensitivity=0.669, specificity=0.677]\n",
            "100%|██████████| 171/171 [00:18<00:00,  9.33it/s, loss=0.735, accuracy=0.643, sensitivity=0.346, specificity=0.455]\n"
          ]
        },
        {
          "output_type": "stream",
          "name": "stdout",
          "text": [
            "Training epoch [3/200], Training BCE loss:0.6923, Training accuracy:0.6702, Training sensitivity:0.6687, Training specificity:0.6773,                 Validation BCE loss:0.7352, Validation accuracy:0.6435, Validation sensitivity:0.3459, Validation specificity:0.4550,\n",
            "=> saved best model as validation loss is greater than previous best loss\n"
          ]
        },
        {
          "output_type": "stream",
          "name": "stderr",
          "text": [
            "100%|██████████| 493/493 [03:42<00:00,  2.22it/s, loss=0.684, accuracy=0.695, sensitivity=0.719, specificity=0.679]\n",
            "100%|██████████| 171/171 [00:18<00:00,  9.30it/s, loss=0.727, accuracy=0.667, sensitivity=0.362, specificity=0.464]\n"
          ]
        },
        {
          "output_type": "stream",
          "name": "stdout",
          "text": [
            "Training epoch [4/200], Training BCE loss:0.6837, Training accuracy:0.6949, Training sensitivity:0.7190, Training specificity:0.6785,                 Validation BCE loss:0.7275, Validation accuracy:0.6675, Validation sensitivity:0.3615, Validation specificity:0.4642,\n",
            "=> saved best model as validation loss is greater than previous best loss\n"
          ]
        },
        {
          "output_type": "stream",
          "name": "stderr",
          "text": [
            "100%|██████████| 493/493 [03:41<00:00,  2.23it/s, loss=0.674, accuracy=0.711, sensitivity=0.742, specificity=0.689]\n",
            "100%|██████████| 171/171 [00:18<00:00,  9.33it/s, loss=0.718, accuracy=0.681, sensitivity=0.376, specificity=0.468]\n"
          ]
        },
        {
          "output_type": "stream",
          "name": "stdout",
          "text": [
            "Training epoch [5/200], Training BCE loss:0.6740, Training accuracy:0.7108, Training sensitivity:0.7422, Training specificity:0.6891,                 Validation BCE loss:0.7180, Validation accuracy:0.6807, Validation sensitivity:0.3765, Validation specificity:0.4682,\n",
            "=> saved best model as validation loss is greater than previous best loss\n"
          ]
        },
        {
          "output_type": "stream",
          "name": "stderr",
          "text": [
            "100%|██████████| 493/493 [03:41<00:00,  2.22it/s, loss=0.664, accuracy=0.727, sensitivity=0.764, specificity=0.697]\n",
            "100%|██████████| 171/171 [00:18<00:00,  9.33it/s, loss=0.709, accuracy=0.688, sensitivity=0.39, specificity=0.464]\n"
          ]
        },
        {
          "output_type": "stream",
          "name": "stdout",
          "text": [
            "Training epoch [6/200], Training BCE loss:0.6635, Training accuracy:0.7273, Training sensitivity:0.7643, Training specificity:0.6968,                 Validation BCE loss:0.7094, Validation accuracy:0.6876, Validation sensitivity:0.3896, Validation specificity:0.4641,\n",
            "=> saved best model as validation loss is greater than previous best loss\n"
          ]
        },
        {
          "output_type": "stream",
          "name": "stderr",
          "text": [
            "100%|██████████| 493/493 [03:41<00:00,  2.23it/s, loss=0.653, accuracy=0.742, sensitivity=0.783, specificity=0.712]\n",
            "100%|██████████| 171/171 [00:18<00:00,  9.27it/s, loss=0.702, accuracy=0.697, sensitivity=0.39, specificity=0.477]\n"
          ]
        },
        {
          "output_type": "stream",
          "name": "stdout",
          "text": [
            "Training epoch [7/200], Training BCE loss:0.6535, Training accuracy:0.7424, Training sensitivity:0.7828, Training specificity:0.7117,                 Validation BCE loss:0.7017, Validation accuracy:0.6974, Validation sensitivity:0.3898, Validation specificity:0.4768,\n",
            "=> saved best model as validation loss is greater than previous best loss\n"
          ]
        },
        {
          "output_type": "stream",
          "name": "stderr",
          "text": [
            "100%|██████████| 493/493 [03:41<00:00,  2.23it/s, loss=0.643, accuracy=0.749, sensitivity=0.776, specificity=0.732]\n",
            "100%|██████████| 171/171 [00:18<00:00,  9.33it/s, loss=0.694, accuracy=0.702, sensitivity=0.379, specificity=0.496]\n"
          ]
        },
        {
          "output_type": "stream",
          "name": "stdout",
          "text": [
            "Training epoch [8/200], Training BCE loss:0.6434, Training accuracy:0.7490, Training sensitivity:0.7762, Training specificity:0.7319,                 Validation BCE loss:0.6936, Validation accuracy:0.7023, Validation sensitivity:0.3795, Validation specificity:0.4960,\n",
            "=> saved best model as validation loss is greater than previous best loss\n"
          ]
        },
        {
          "output_type": "stream",
          "name": "stderr",
          "text": [
            "100%|██████████| 493/493 [03:41<00:00,  2.23it/s, loss=0.635, accuracy=0.754, sensitivity=0.778, specificity=0.738]\n",
            "100%|██████████| 171/171 [00:18<00:00,  9.34it/s, loss=0.688, accuracy=0.708, sensitivity=0.365, specificity=0.521]\n"
          ]
        },
        {
          "output_type": "stream",
          "name": "stdout",
          "text": [
            "Training epoch [9/200], Training BCE loss:0.6349, Training accuracy:0.7544, Training sensitivity:0.7783, Training specificity:0.7378,                 Validation BCE loss:0.6877, Validation accuracy:0.7081, Validation sensitivity:0.3651, Validation specificity:0.5208,\n",
            "=> saved best model as validation loss is greater than previous best loss\n"
          ]
        },
        {
          "output_type": "stream",
          "name": "stderr",
          "text": [
            "100%|██████████| 493/493 [03:41<00:00,  2.23it/s, loss=0.625, accuracy=0.776, sensitivity=0.786, specificity=0.774]\n",
            "100%|██████████| 171/171 [00:18<00:00,  9.27it/s, loss=0.684, accuracy=0.712, sensitivity=0.374, specificity=0.514]\n"
          ]
        },
        {
          "output_type": "stream",
          "name": "stdout",
          "text": [
            "Training epoch [10/200], Training BCE loss:0.6254, Training accuracy:0.7755, Training sensitivity:0.7859, Training specificity:0.7736,                 Validation BCE loss:0.6836, Validation accuracy:0.7120, Validation sensitivity:0.3742, Validation specificity:0.5141,\n",
            "=> saved best model as validation loss is greater than previous best loss\n"
          ]
        },
        {
          "output_type": "stream",
          "name": "stderr",
          "text": [
            "100%|██████████| 493/493 [03:41<00:00,  2.23it/s, loss=0.618, accuracy=0.781, sensitivity=0.786, specificity=0.784]\n",
            "100%|██████████| 171/171 [00:18<00:00,  9.35it/s, loss=0.679, accuracy=0.714, sensitivity=0.369, specificity=0.523]\n"
          ]
        },
        {
          "output_type": "stream",
          "name": "stdout",
          "text": [
            "Training epoch [11/200], Training BCE loss:0.6181, Training accuracy:0.7808, Training sensitivity:0.7858, Training specificity:0.7839,                 Validation BCE loss:0.6793, Validation accuracy:0.7135, Validation sensitivity:0.3685, Validation specificity:0.5232,\n",
            "=> saved best model as validation loss is greater than previous best loss\n"
          ]
        },
        {
          "output_type": "stream",
          "name": "stderr",
          "text": [
            "100%|██████████| 493/493 [03:41<00:00,  2.23it/s, loss=0.61, accuracy=0.793, sensitivity=0.788, specificity=0.806]\n",
            "100%|██████████| 171/171 [00:18<00:00,  9.34it/s, loss=0.676, accuracy=0.722, sensitivity=0.374, specificity=0.532]\n"
          ]
        },
        {
          "output_type": "stream",
          "name": "stdout",
          "text": [
            "Training epoch [12/200], Training BCE loss:0.6096, Training accuracy:0.7931, Training sensitivity:0.7879, Training specificity:0.8064,                 Validation BCE loss:0.6758, Validation accuracy:0.7223, Validation sensitivity:0.3735, Validation specificity:0.5320,\n",
            "=> saved best model as validation loss is greater than previous best loss\n"
          ]
        },
        {
          "output_type": "stream",
          "name": "stderr",
          "text": [
            "100%|██████████| 493/493 [03:41<00:00,  2.23it/s, loss=0.602, accuracy=0.807, sensitivity=0.802, specificity=0.825]\n",
            "100%|██████████| 171/171 [00:18<00:00,  9.27it/s, loss=0.673, accuracy=0.718, sensitivity=0.356, specificity=0.548]\n"
          ]
        },
        {
          "output_type": "stream",
          "name": "stdout",
          "text": [
            "Training epoch [13/200], Training BCE loss:0.6020, Training accuracy:0.8070, Training sensitivity:0.8016, Training specificity:0.8252,                 Validation BCE loss:0.6725, Validation accuracy:0.7184, Validation sensitivity:0.3563, Validation specificity:0.5484,\n",
            "=> saved best model as validation loss is greater than previous best loss\n"
          ]
        },
        {
          "output_type": "stream",
          "name": "stderr",
          "text": [
            "100%|██████████| 493/493 [03:41<00:00,  2.23it/s, loss=0.595, accuracy=0.817, sensitivity=0.804, specificity=0.841]\n",
            "100%|██████████| 171/171 [00:18<00:00,  9.34it/s, loss=0.67, accuracy=0.716, sensitivity=0.338, specificity=0.564]\n"
          ]
        },
        {
          "output_type": "stream",
          "name": "stdout",
          "text": [
            "Training epoch [14/200], Training BCE loss:0.5954, Training accuracy:0.8166, Training sensitivity:0.8037, Training specificity:0.8408,                 Validation BCE loss:0.6695, Validation accuracy:0.7165, Validation sensitivity:0.3378, Validation specificity:0.5636,\n",
            "=> saved best model as validation loss is greater than previous best loss\n"
          ]
        },
        {
          "output_type": "stream",
          "name": "stderr",
          "text": [
            "100%|██████████| 493/493 [03:41<00:00,  2.23it/s, loss=0.589, accuracy=0.825, sensitivity=0.807, specificity=0.853]\n",
            "100%|██████████| 171/171 [00:18<00:00,  9.32it/s, loss=0.667, accuracy=0.716, sensitivity=0.338, specificity=0.566]\n"
          ]
        },
        {
          "output_type": "stream",
          "name": "stdout",
          "text": [
            "Training epoch [15/200], Training BCE loss:0.5889, Training accuracy:0.8247, Training sensitivity:0.8066, Training specificity:0.8529,                 Validation BCE loss:0.6674, Validation accuracy:0.7165, Validation sensitivity:0.3380, Validation specificity:0.5657,\n",
            "=> saved best model as validation loss is greater than previous best loss\n"
          ]
        },
        {
          "output_type": "stream",
          "name": "stderr",
          "text": [
            "100%|██████████| 493/493 [03:41<00:00,  2.23it/s, loss=0.58, accuracy=0.843, sensitivity=0.826, specificity=0.872]\n",
            "100%|██████████| 171/171 [00:18<00:00,  9.27it/s, loss=0.667, accuracy=0.714, sensitivity=0.347, specificity=0.55]\n"
          ]
        },
        {
          "output_type": "stream",
          "name": "stdout",
          "text": [
            "Training epoch [16/200], Training BCE loss:0.5802, Training accuracy:0.8433, Training sensitivity:0.8255, Training specificity:0.8716,                 Validation BCE loss:0.6670, Validation accuracy:0.7135, Validation sensitivity:0.3469, Validation specificity:0.5499,\n",
            "=> saved best model as validation loss is greater than previous best loss\n"
          ]
        },
        {
          "output_type": "stream",
          "name": "stderr",
          "text": [
            "100%|██████████| 493/493 [03:41<00:00,  2.23it/s, loss=0.575, accuracy=0.852, sensitivity=0.833, specificity=0.879]\n",
            "100%|██████████| 171/171 [00:18<00:00,  9.31it/s, loss=0.664, accuracy=0.713, sensitivity=0.326, specificity=0.575]\n"
          ]
        },
        {
          "output_type": "stream",
          "name": "stdout",
          "text": [
            "Training epoch [17/200], Training BCE loss:0.5754, Training accuracy:0.8516, Training sensitivity:0.8325, Training specificity:0.8794,                 Validation BCE loss:0.6636, Validation accuracy:0.7125, Validation sensitivity:0.3256, Validation specificity:0.5751,\n",
            "=> saved best model as validation loss is greater than previous best loss\n"
          ]
        },
        {
          "output_type": "stream",
          "name": "stderr",
          "text": [
            "100%|██████████| 493/493 [03:41<00:00,  2.23it/s, loss=0.569, accuracy=0.86, sensitivity=0.835, specificity=0.892]\n",
            "100%|██████████| 171/171 [00:18<00:00,  9.31it/s, loss=0.662, accuracy=0.714, sensitivity=0.326, specificity=0.584]\n"
          ]
        },
        {
          "output_type": "stream",
          "name": "stdout",
          "text": [
            "Training epoch [18/200], Training BCE loss:0.5686, Training accuracy:0.8602, Training sensitivity:0.8353, Training specificity:0.8921,                 Validation BCE loss:0.6624, Validation accuracy:0.7140, Validation sensitivity:0.3255, Validation specificity:0.5843,\n",
            "=> saved best model as validation loss is greater than previous best loss\n"
          ]
        },
        {
          "output_type": "stream",
          "name": "stderr",
          "text": [
            "100%|██████████| 493/493 [03:41<00:00,  2.23it/s, loss=0.563, accuracy=0.87, sensitivity=0.843, specificity=0.901]\n",
            "100%|██████████| 171/171 [00:18<00:00,  9.26it/s, loss=0.662, accuracy=0.714, sensitivity=0.331, specificity=0.584]\n"
          ]
        },
        {
          "output_type": "stream",
          "name": "stdout",
          "text": [
            "Training epoch [19/200], Training BCE loss:0.5626, Training accuracy:0.8702, Training sensitivity:0.8428, Training specificity:0.9006,                 Validation BCE loss:0.6621, Validation accuracy:0.7145, Validation sensitivity:0.3315, Validation specificity:0.5837,\n",
            "=> saved best model as validation loss is greater than previous best loss\n"
          ]
        },
        {
          "output_type": "stream",
          "name": "stderr",
          "text": [
            "100%|██████████| 493/493 [03:41<00:00,  2.23it/s, loss=0.56, accuracy=0.875, sensitivity=0.85, specificity=0.911]\n",
            "100%|██████████| 171/171 [00:18<00:00,  9.28it/s, loss=0.662, accuracy=0.714, sensitivity=0.332, specificity=0.586]\n"
          ]
        },
        {
          "output_type": "stream",
          "name": "stdout",
          "text": [
            "Training epoch [20/200], Training BCE loss:0.5599, Training accuracy:0.8753, Training sensitivity:0.8500, Training specificity:0.9110,                 Validation BCE loss:0.6617, Validation accuracy:0.7140, Validation sensitivity:0.3316, Validation specificity:0.5865,\n",
            "=> saved best model as validation loss is greater than previous best loss\n"
          ]
        },
        {
          "output_type": "stream",
          "name": "stderr",
          "text": [
            "100%|██████████| 493/493 [03:41<00:00,  2.22it/s, loss=0.555, accuracy=0.883, sensitivity=0.851, specificity=0.922]\n",
            "100%|██████████| 171/171 [00:18<00:00,  9.26it/s, loss=0.661, accuracy=0.711, sensitivity=0.324, specificity=0.595]\n"
          ]
        },
        {
          "output_type": "stream",
          "name": "stdout",
          "text": [
            "Training epoch [21/200], Training BCE loss:0.5549, Training accuracy:0.8825, Training sensitivity:0.8508, Training specificity:0.9215,                 Validation BCE loss:0.6612, Validation accuracy:0.7111, Validation sensitivity:0.3237, Validation specificity:0.5949,\n",
            "=> saved best model as validation loss is greater than previous best loss\n"
          ]
        },
        {
          "output_type": "stream",
          "name": "stderr",
          "text": [
            "100%|██████████| 493/493 [03:41<00:00,  2.22it/s, loss=0.552, accuracy=0.886, sensitivity=0.855, specificity=0.923]\n",
            "100%|██████████| 171/171 [00:18<00:00,  9.26it/s, loss=0.661, accuracy=0.704, sensitivity=0.311, specificity=0.594]\n"
          ]
        },
        {
          "output_type": "stream",
          "name": "stdout",
          "text": [
            "Training epoch [22/200], Training BCE loss:0.5522, Training accuracy:0.8857, Training sensitivity:0.8551, Training specificity:0.9233,                 Validation BCE loss:0.6611, Validation accuracy:0.7042, Validation sensitivity:0.3108, Validation specificity:0.5943,\n",
            "=> saved best model as validation loss is greater than previous best loss\n"
          ]
        },
        {
          "output_type": "stream",
          "name": "stderr",
          "text": [
            "100%|██████████| 493/493 [03:41<00:00,  2.22it/s, loss=0.548, accuracy=0.895, sensitivity=0.871, specificity=0.923]\n",
            "100%|██████████| 171/171 [00:18<00:00,  9.25it/s, loss=0.661, accuracy=0.707, sensitivity=0.326, specificity=0.587]\n"
          ]
        },
        {
          "output_type": "stream",
          "name": "stdout",
          "text": [
            "Training epoch [23/200], Training BCE loss:0.5478, Training accuracy:0.8950, Training sensitivity:0.8706, Training specificity:0.9234,                 Validation BCE loss:0.6607, Validation accuracy:0.7071, Validation sensitivity:0.3263, Validation specificity:0.5868,\n",
            "=> saved best model as validation loss is greater than previous best loss\n"
          ]
        },
        {
          "output_type": "stream",
          "name": "stderr",
          "text": [
            "100%|██████████| 493/493 [03:41<00:00,  2.23it/s, loss=0.547, accuracy=0.896, sensitivity=0.868, specificity=0.928]\n",
            "100%|██████████| 171/171 [00:18<00:00,  9.30it/s, loss=0.661, accuracy=0.708, sensitivity=0.335, specificity=0.578]\n"
          ]
        },
        {
          "output_type": "stream",
          "name": "stdout",
          "text": [
            "Training epoch [24/200], Training BCE loss:0.5473, Training accuracy:0.8962, Training sensitivity:0.8684, Training specificity:0.9282,                 Validation BCE loss:0.6612, Validation accuracy:0.7081, Validation sensitivity:0.3354, Validation specificity:0.5782,\n"
          ]
        },
        {
          "output_type": "stream",
          "name": "stderr",
          "text": [
            "100%|██████████| 493/493 [03:41<00:00,  2.23it/s, loss=0.539, accuracy=0.914, sensitivity=0.886, specificity=0.941]\n",
            "100%|██████████| 171/171 [00:18<00:00,  9.31it/s, loss=0.66, accuracy=0.709, sensitivity=0.326, specificity=0.587]\n"
          ]
        },
        {
          "output_type": "stream",
          "name": "stdout",
          "text": [
            "Training epoch [25/200], Training BCE loss:0.5392, Training accuracy:0.9145, Training sensitivity:0.8865, Training specificity:0.9412,                 Validation BCE loss:0.6600, Validation accuracy:0.7086, Validation sensitivity:0.3258, Validation specificity:0.5866,\n",
            "=> saved best model as validation loss is greater than previous best loss\n"
          ]
        },
        {
          "output_type": "stream",
          "name": "stderr",
          "text": [
            "100%|██████████| 493/493 [03:41<00:00,  2.22it/s, loss=0.538, accuracy=0.914, sensitivity=0.886, specificity=0.94]\n",
            "100%|██████████| 171/171 [00:18<00:00,  9.22it/s, loss=0.66, accuracy=0.71, sensitivity=0.326, specificity=0.587]\n"
          ]
        },
        {
          "output_type": "stream",
          "name": "stdout",
          "text": [
            "Training epoch [26/200], Training BCE loss:0.5381, Training accuracy:0.9140, Training sensitivity:0.8858, Training specificity:0.9400,                 Validation BCE loss:0.6595, Validation accuracy:0.7101, Validation sensitivity:0.3261, Validation specificity:0.5868,\n",
            "=> saved best model as validation loss is greater than previous best loss\n"
          ]
        },
        {
          "output_type": "stream",
          "name": "stderr",
          "text": [
            "100%|██████████| 493/493 [03:41<00:00,  2.22it/s, loss=0.536, accuracy=0.918, sensitivity=0.892, specificity=0.941]\n",
            "100%|██████████| 171/171 [00:18<00:00,  9.24it/s, loss=0.66, accuracy=0.705, sensitivity=0.323, specificity=0.587]\n"
          ]
        },
        {
          "output_type": "stream",
          "name": "stdout",
          "text": [
            "Training epoch [27/200], Training BCE loss:0.5356, Training accuracy:0.9184, Training sensitivity:0.8915, Training specificity:0.9414,                 Validation BCE loss:0.6600, Validation accuracy:0.7047, Validation sensitivity:0.3226, Validation specificity:0.5867,\n"
          ]
        },
        {
          "output_type": "stream",
          "name": "stderr",
          "text": [
            "100%|██████████| 493/493 [03:41<00:00,  2.22it/s, loss=0.533, accuracy=0.923, sensitivity=0.9, specificity=0.939]\n",
            "100%|██████████| 171/171 [00:18<00:00,  9.16it/s, loss=0.659, accuracy=0.702, sensitivity=0.319, specificity=0.588]\n"
          ]
        },
        {
          "output_type": "stream",
          "name": "stdout",
          "text": [
            "Training epoch [28/200], Training BCE loss:0.5333, Training accuracy:0.9231, Training sensitivity:0.9003, Training specificity:0.9392,                 Validation BCE loss:0.6590, Validation accuracy:0.7018, Validation sensitivity:0.3187, Validation specificity:0.5880,\n",
            "=> saved best model as validation loss is greater than previous best loss\n"
          ]
        },
        {
          "output_type": "stream",
          "name": "stderr",
          "text": [
            "100%|██████████| 493/493 [03:41<00:00,  2.22it/s, loss=0.532, accuracy=0.926, sensitivity=0.904, specificity=0.943]\n",
            "100%|██████████| 171/171 [00:18<00:00,  9.20it/s, loss=0.659, accuracy=0.704, sensitivity=0.322, specificity=0.587]\n"
          ]
        },
        {
          "output_type": "stream",
          "name": "stdout",
          "text": [
            "Training epoch [29/200], Training BCE loss:0.5321, Training accuracy:0.9261, Training sensitivity:0.9037, Training specificity:0.9427,                 Validation BCE loss:0.6589, Validation accuracy:0.7042, Validation sensitivity:0.3219, Validation specificity:0.5869,\n",
            "=> saved best model as validation loss is greater than previous best loss\n"
          ]
        },
        {
          "output_type": "stream",
          "name": "stderr",
          "text": [
            "100%|██████████| 493/493 [03:41<00:00,  2.22it/s, loss=0.532, accuracy=0.925, sensitivity=0.9, specificity=0.945]\n",
            "100%|██████████| 171/171 [00:18<00:00,  9.27it/s, loss=0.66, accuracy=0.705, sensitivity=0.331, specificity=0.58]\n"
          ]
        },
        {
          "output_type": "stream",
          "name": "stdout",
          "text": [
            "Training epoch [30/200], Training BCE loss:0.5315, Training accuracy:0.9249, Training sensitivity:0.8998, Training specificity:0.9453,                 Validation BCE loss:0.6598, Validation accuracy:0.7047, Validation sensitivity:0.3311, Validation specificity:0.5801,\n"
          ]
        },
        {
          "output_type": "stream",
          "name": "stderr",
          "text": [
            "100%|██████████| 493/493 [03:41<00:00,  2.23it/s, loss=0.529, accuracy=0.928, sensitivity=0.901, specificity=0.952]\n",
            "100%|██████████| 171/171 [00:18<00:00,  9.34it/s, loss=0.66, accuracy=0.705, sensitivity=0.338, specificity=0.573]\n"
          ]
        },
        {
          "output_type": "stream",
          "name": "stdout",
          "text": [
            "Training epoch [31/200], Training BCE loss:0.5288, Training accuracy:0.9285, Training sensitivity:0.9007, Training specificity:0.9522,                 Validation BCE loss:0.6600, Validation accuracy:0.7052, Validation sensitivity:0.3380, Validation specificity:0.5730,\n"
          ]
        },
        {
          "output_type": "stream",
          "name": "stderr",
          "text": [
            "100%|██████████| 493/493 [03:41<00:00,  2.22it/s, loss=0.525, accuracy=0.938, sensitivity=0.914, specificity=0.951]\n",
            "100%|██████████| 171/171 [00:18<00:00,  9.27it/s, loss=0.661, accuracy=0.702, sensitivity=0.343, specificity=0.562]\n"
          ]
        },
        {
          "output_type": "stream",
          "name": "stdout",
          "text": [
            "Training epoch [32/200], Training BCE loss:0.5250, Training accuracy:0.9385, Training sensitivity:0.9137, Training specificity:0.9513,                 Validation BCE loss:0.6610, Validation accuracy:0.7018, Validation sensitivity:0.3428, Validation specificity:0.5625,\n"
          ]
        },
        {
          "output_type": "stream",
          "name": "stderr",
          "text": [
            "100%|██████████| 493/493 [03:41<00:00,  2.23it/s, loss=0.525, accuracy=0.939, sensitivity=0.918, specificity=0.951]\n",
            "100%|██████████| 171/171 [00:18<00:00,  9.25it/s, loss=0.66, accuracy=0.708, sensitivity=0.344, specificity=0.572]\n"
          ]
        },
        {
          "output_type": "stream",
          "name": "stdout",
          "text": [
            "Training epoch [33/200], Training BCE loss:0.5247, Training accuracy:0.9395, Training sensitivity:0.9176, Training specificity:0.9507,                 Validation BCE loss:0.6603, Validation accuracy:0.7076, Validation sensitivity:0.3439, Validation specificity:0.5719,\n"
          ]
        },
        {
          "output_type": "stream",
          "name": "stderr",
          "text": [
            "100%|██████████| 493/493 [03:41<00:00,  2.23it/s, loss=0.524, accuracy=0.942, sensitivity=0.922, specificity=0.952]\n",
            "100%|██████████| 171/171 [00:18<00:00,  9.29it/s, loss=0.659, accuracy=0.707, sensitivity=0.333, specificity=0.58]\n"
          ]
        },
        {
          "output_type": "stream",
          "name": "stdout",
          "text": [
            "Training epoch [34/200], Training BCE loss:0.5236, Training accuracy:0.9420, Training sensitivity:0.9217, Training specificity:0.9516,                 Validation BCE loss:0.6594, Validation accuracy:0.7071, Validation sensitivity:0.3330, Validation specificity:0.5803,\n"
          ]
        },
        {
          "output_type": "stream",
          "name": "stderr",
          "text": [
            "100%|██████████| 493/493 [03:41<00:00,  2.23it/s, loss=0.523, accuracy=0.943, sensitivity=0.921, specificity=0.956]\n",
            "100%|██████████| 171/171 [00:18<00:00,  9.29it/s, loss=0.659, accuracy=0.702, sensitivity=0.325, specificity=0.584]\n"
          ]
        },
        {
          "output_type": "stream",
          "name": "stdout",
          "text": [
            "Training epoch [35/200], Training BCE loss:0.5230, Training accuracy:0.9425, Training sensitivity:0.9208, Training specificity:0.9560,                 Validation BCE loss:0.6593, Validation accuracy:0.7023, Validation sensitivity:0.3246, Validation specificity:0.5845,\n"
          ]
        },
        {
          "output_type": "stream",
          "name": "stderr",
          "text": [
            "100%|██████████| 493/493 [03:41<00:00,  2.23it/s, loss=0.522, accuracy=0.942, sensitivity=0.918, specificity=0.956]\n",
            "100%|██████████| 171/171 [00:18<00:00,  9.20it/s, loss=0.66, accuracy=0.703, sensitivity=0.335, specificity=0.571]\n"
          ]
        },
        {
          "output_type": "stream",
          "name": "stdout",
          "text": [
            "Training epoch [36/200], Training BCE loss:0.5217, Training accuracy:0.9420, Training sensitivity:0.9179, Training specificity:0.9564,                 Validation BCE loss:0.6602, Validation accuracy:0.7032, Validation sensitivity:0.3351, Validation specificity:0.5715,\n"
          ]
        },
        {
          "output_type": "stream",
          "name": "stderr",
          "text": [
            "100%|██████████| 493/493 [03:41<00:00,  2.22it/s, loss=0.52, accuracy=0.944, sensitivity=0.921, specificity=0.957]\n",
            "100%|██████████| 171/171 [00:18<00:00,  9.15it/s, loss=0.663, accuracy=0.697, sensitivity=0.331, specificity=0.569]\n"
          ]
        },
        {
          "output_type": "stream",
          "name": "stdout",
          "text": [
            "Training epoch [37/200], Training BCE loss:0.5204, Training accuracy:0.9444, Training sensitivity:0.9208, Training specificity:0.9566,                 Validation BCE loss:0.6629, Validation accuracy:0.6974, Validation sensitivity:0.3313, Validation specificity:0.5692,\n"
          ]
        },
        {
          "output_type": "stream",
          "name": "stderr",
          "text": [
            "100%|██████████| 493/493 [03:41<00:00,  2.23it/s, loss=0.518, accuracy=0.951, sensitivity=0.93, specificity=0.96]\n",
            "100%|██████████| 171/171 [00:18<00:00,  9.27it/s, loss=0.661, accuracy=0.699, sensitivity=0.336, specificity=0.568]\n"
          ]
        },
        {
          "output_type": "stream",
          "name": "stdout",
          "text": [
            "Training epoch [38/200], Training BCE loss:0.5183, Training accuracy:0.9510, Training sensitivity:0.9300, Training specificity:0.9598,                 Validation BCE loss:0.6606, Validation accuracy:0.6993, Validation sensitivity:0.3359, Validation specificity:0.5685,\n"
          ]
        },
        {
          "output_type": "stream",
          "name": "stderr",
          "text": [
            "100%|██████████| 493/493 [03:41<00:00,  2.23it/s, loss=0.516, accuracy=0.955, sensitivity=0.932, specificity=0.963]\n",
            "100%|██████████| 171/171 [00:18<00:00,  9.27it/s, loss=0.662, accuracy=0.697, sensitivity=0.328, specificity=0.57]\n"
          ]
        },
        {
          "output_type": "stream",
          "name": "stdout",
          "text": [
            "Training epoch [39/200], Training BCE loss:0.5160, Training accuracy:0.9549, Training sensitivity:0.9317, Training specificity:0.9629,                 Validation BCE loss:0.6616, Validation accuracy:0.6969, Validation sensitivity:0.3279, Validation specificity:0.5700,\n"
          ]
        },
        {
          "output_type": "stream",
          "name": "stderr",
          "text": [
            "100%|██████████| 493/493 [03:41<00:00,  2.22it/s, loss=0.516, accuracy=0.955, sensitivity=0.934, specificity=0.96]\n",
            "100%|██████████| 171/171 [00:18<00:00,  9.28it/s, loss=0.662, accuracy=0.703, sensitivity=0.342, specificity=0.568]\n"
          ]
        },
        {
          "output_type": "stream",
          "name": "stdout",
          "text": [
            "Training epoch [40/200], Training BCE loss:0.5157, Training accuracy:0.9552, Training sensitivity:0.9339, Training specificity:0.9603,                 Validation BCE loss:0.6616, Validation accuracy:0.7032, Validation sensitivity:0.3422, Validation specificity:0.5683,\n"
          ]
        },
        {
          "output_type": "stream",
          "name": "stderr",
          "text": [
            "100%|██████████| 493/493 [03:41<00:00,  2.22it/s, loss=0.518, accuracy=0.951, sensitivity=0.932, specificity=0.955]\n",
            "100%|██████████| 171/171 [00:18<00:00,  9.22it/s, loss=0.661, accuracy=0.7, sensitivity=0.337, specificity=0.568]\n"
          ]
        },
        {
          "output_type": "stream",
          "name": "stdout",
          "text": [
            "Training epoch [41/200], Training BCE loss:0.5176, Training accuracy:0.9511, Training sensitivity:0.9324, Training specificity:0.9550,                 Validation BCE loss:0.6611, Validation accuracy:0.7003, Validation sensitivity:0.3366, Validation specificity:0.5685,\n"
          ]
        },
        {
          "output_type": "stream",
          "name": "stderr",
          "text": [
            "100%|██████████| 493/493 [03:41<00:00,  2.23it/s, loss=0.515, accuracy=0.956, sensitivity=0.936, specificity=0.961]\n",
            "100%|██████████| 171/171 [00:18<00:00,  9.21it/s, loss=0.662, accuracy=0.7, sensitivity=0.335, specificity=0.573]\n"
          ]
        },
        {
          "output_type": "stream",
          "name": "stdout",
          "text": [
            "Training epoch [42/200], Training BCE loss:0.5154, Training accuracy:0.9555, Training sensitivity:0.9359, Training specificity:0.9606,                 Validation BCE loss:0.6618, Validation accuracy:0.6998, Validation sensitivity:0.3346, Validation specificity:0.5734,\n"
          ]
        },
        {
          "output_type": "stream",
          "name": "stderr",
          "text": [
            "100%|██████████| 493/493 [03:41<00:00,  2.22it/s, loss=0.515, accuracy=0.956, sensitivity=0.934, specificity=0.962]\n",
            "100%|██████████| 171/171 [00:18<00:00,  9.25it/s, loss=0.66, accuracy=0.704, sensitivity=0.344, specificity=0.566]\n"
          ]
        },
        {
          "output_type": "stream",
          "name": "stdout",
          "text": [
            "Training epoch [43/200], Training BCE loss:0.5152, Training accuracy:0.9555, Training sensitivity:0.9342, Training specificity:0.9619,                 Validation BCE loss:0.6604, Validation accuracy:0.7042, Validation sensitivity:0.3445, Validation specificity:0.5664,\n"
          ]
        },
        {
          "output_type": "stream",
          "name": "stderr",
          "text": [
            "100%|██████████| 493/493 [03:41<00:00,  2.22it/s, loss=0.514, accuracy=0.958, sensitivity=0.934, specificity=0.964]\n",
            "100%|██████████| 171/171 [00:18<00:00,  9.26it/s, loss=0.661, accuracy=0.708, sensitivity=0.355, specificity=0.561]\n"
          ]
        },
        {
          "output_type": "stream",
          "name": "stdout",
          "text": [
            "Training epoch [44/200], Training BCE loss:0.5137, Training accuracy:0.9582, Training sensitivity:0.9345, Training specificity:0.9644,                 Validation BCE loss:0.6610, Validation accuracy:0.7076, Validation sensitivity:0.3553, Validation specificity:0.5615,\n"
          ]
        },
        {
          "output_type": "stream",
          "name": "stderr",
          "text": [
            "100%|██████████| 493/493 [03:41<00:00,  2.23it/s, loss=0.512, accuracy=0.963, sensitivity=0.942, specificity=0.963]\n",
            "100%|██████████| 171/171 [00:18<00:00,  9.21it/s, loss=0.661, accuracy=0.701, sensitivity=0.34, specificity=0.568]\n"
          ]
        },
        {
          "output_type": "stream",
          "name": "stdout",
          "text": [
            "Training epoch [45/200], Training BCE loss:0.5116, Training accuracy:0.9632, Training sensitivity:0.9422, Training specificity:0.9634,                 Validation BCE loss:0.6610, Validation accuracy:0.7008, Validation sensitivity:0.3399, Validation specificity:0.5676,\n"
          ]
        },
        {
          "output_type": "stream",
          "name": "stderr",
          "text": [
            "100%|██████████| 493/493 [03:41<00:00,  2.23it/s, loss=0.511, accuracy=0.963, sensitivity=0.94, specificity=0.964]\n",
            "100%|██████████| 171/171 [00:18<00:00,  9.21it/s, loss=0.661, accuracy=0.698, sensitivity=0.332, specificity=0.568]\n"
          ]
        },
        {
          "output_type": "stream",
          "name": "stdout",
          "text": [
            "Training epoch [46/200], Training BCE loss:0.5114, Training accuracy:0.9628, Training sensitivity:0.9403, Training specificity:0.9642,                 Validation BCE loss:0.6614, Validation accuracy:0.6983, Validation sensitivity:0.3321, Validation specificity:0.5677,\n"
          ]
        },
        {
          "output_type": "stream",
          "name": "stderr",
          "text": [
            "100%|██████████| 493/493 [03:41<00:00,  2.22it/s, loss=0.512, accuracy=0.96, sensitivity=0.941, specificity=0.962]\n",
            "100%|██████████| 171/171 [00:18<00:00,  9.27it/s, loss=0.662, accuracy=0.703, sensitivity=0.344, specificity=0.564]\n"
          ]
        },
        {
          "output_type": "stream",
          "name": "stdout",
          "text": [
            "Training epoch [47/200], Training BCE loss:0.5123, Training accuracy:0.9604, Training sensitivity:0.9413, Training specificity:0.9616,                 Validation BCE loss:0.6616, Validation accuracy:0.7027, Validation sensitivity:0.3438, Validation specificity:0.5638,\n"
          ]
        },
        {
          "output_type": "stream",
          "name": "stderr",
          "text": [
            "100%|██████████| 493/493 [03:41<00:00,  2.22it/s, loss=0.51, accuracy=0.964, sensitivity=0.941, specificity=0.966]\n",
            "100%|██████████| 171/171 [00:18<00:00,  9.29it/s, loss=0.662, accuracy=0.699, sensitivity=0.335, specificity=0.571]\n"
          ]
        },
        {
          "output_type": "stream",
          "name": "stdout",
          "text": [
            "Training epoch [48/200], Training BCE loss:0.5098, Training accuracy:0.9638, Training sensitivity:0.9411, Training specificity:0.9658,                 Validation BCE loss:0.6616, Validation accuracy:0.6993, Validation sensitivity:0.3354, Validation specificity:0.5706,\n"
          ]
        },
        {
          "output_type": "stream",
          "name": "stderr",
          "text": [
            "100%|██████████| 493/493 [03:41<00:00,  2.22it/s, loss=0.511, accuracy=0.962, sensitivity=0.944, specificity=0.964]\n",
            "100%|██████████| 171/171 [00:18<00:00,  9.26it/s, loss=0.662, accuracy=0.703, sensitivity=0.35, specificity=0.561]\n"
          ]
        },
        {
          "output_type": "stream",
          "name": "stdout",
          "text": [
            "Training epoch [49/200], Training BCE loss:0.5115, Training accuracy:0.9625, Training sensitivity:0.9440, Training specificity:0.9635,                 Validation BCE loss:0.6619, Validation accuracy:0.7032, Validation sensitivity:0.3495, Validation specificity:0.5609,\n"
          ]
        },
        {
          "output_type": "stream",
          "name": "stderr",
          "text": [
            "100%|██████████| 493/493 [03:41<00:00,  2.22it/s, loss=0.509, accuracy=0.967, sensitivity=0.944, specificity=0.969]\n",
            "100%|██████████| 171/171 [00:18<00:00,  9.24it/s, loss=0.663, accuracy=0.698, sensitivity=0.336, specificity=0.568]\n"
          ]
        },
        {
          "output_type": "stream",
          "name": "stdout",
          "text": [
            "Training epoch [50/200], Training BCE loss:0.5090, Training accuracy:0.9667, Training sensitivity:0.9440, Training specificity:0.9686,                 Validation BCE loss:0.6627, Validation accuracy:0.6983, Validation sensitivity:0.3356, Validation specificity:0.5675,\n"
          ]
        },
        {
          "output_type": "stream",
          "name": "stderr",
          "text": [
            "100%|██████████| 493/493 [03:41<00:00,  2.22it/s, loss=0.509, accuracy=0.967, sensitivity=0.946, specificity=0.967]\n",
            "100%|██████████| 171/171 [00:18<00:00,  9.28it/s, loss=0.663, accuracy=0.705, sensitivity=0.358, specificity=0.552]\n"
          ]
        },
        {
          "output_type": "stream",
          "name": "stdout",
          "text": [
            "Training epoch [51/200], Training BCE loss:0.5087, Training accuracy:0.9670, Training sensitivity:0.9463, Training specificity:0.9669,                 Validation BCE loss:0.6626, Validation accuracy:0.7052, Validation sensitivity:0.3580, Validation specificity:0.5521,\n"
          ]
        },
        {
          "output_type": "stream",
          "name": "stderr",
          "text": [
            "100%|██████████| 493/493 [03:41<00:00,  2.23it/s, loss=0.51, accuracy=0.964, sensitivity=0.946, specificity=0.963]\n",
            "100%|██████████| 171/171 [00:18<00:00,  9.29it/s, loss=0.662, accuracy=0.701, sensitivity=0.342, specificity=0.565]\n"
          ]
        },
        {
          "output_type": "stream",
          "name": "stdout",
          "text": [
            "Training epoch [52/200], Training BCE loss:0.5104, Training accuracy:0.9638, Training sensitivity:0.9463, Training specificity:0.9631,                 Validation BCE loss:0.6615, Validation accuracy:0.7013, Validation sensitivity:0.3415, Validation specificity:0.5651,\n"
          ]
        },
        {
          "output_type": "stream",
          "name": "stderr",
          "text": [
            "100%|██████████| 493/493 [03:41<00:00,  2.22it/s, loss=0.509, accuracy=0.969, sensitivity=0.949, specificity=0.967]\n",
            "100%|██████████| 171/171 [00:18<00:00,  9.27it/s, loss=0.663, accuracy=0.707, sensitivity=0.355, specificity=0.556]\n"
          ]
        },
        {
          "output_type": "stream",
          "name": "stdout",
          "text": [
            "Training epoch [53/200], Training BCE loss:0.5086, Training accuracy:0.9686, Training sensitivity:0.9487, Training specificity:0.9669,                 Validation BCE loss:0.6626, Validation accuracy:0.7071, Validation sensitivity:0.3552, Validation specificity:0.5556,\n"
          ]
        },
        {
          "output_type": "stream",
          "name": "stderr",
          "text": [
            "100%|██████████| 493/493 [03:41<00:00,  2.23it/s, loss=0.508, accuracy=0.97, sensitivity=0.949, specificity=0.97]\n",
            "100%|██████████| 171/171 [00:18<00:00,  9.26it/s, loss=0.661, accuracy=0.703, sensitivity=0.346, specificity=0.56]\n"
          ]
        },
        {
          "output_type": "stream",
          "name": "stdout",
          "text": [
            "Training epoch [54/200], Training BCE loss:0.5080, Training accuracy:0.9697, Training sensitivity:0.9490, Training specificity:0.9698,                 Validation BCE loss:0.6612, Validation accuracy:0.7032, Validation sensitivity:0.3460, Validation specificity:0.5597,\n"
          ]
        },
        {
          "output_type": "stream",
          "name": "stderr",
          "text": [
            "100%|██████████| 493/493 [03:41<00:00,  2.22it/s, loss=0.505, accuracy=0.975, sensitivity=0.956, specificity=0.969]\n",
            "100%|██████████| 171/171 [00:18<00:00,  9.30it/s, loss=0.663, accuracy=0.707, sensitivity=0.354, specificity=0.558]\n"
          ]
        },
        {
          "output_type": "stream",
          "name": "stdout",
          "text": [
            "Training epoch [55/200], Training BCE loss:0.5051, Training accuracy:0.9748, Training sensitivity:0.9558, Training specificity:0.9687,                 Validation BCE loss:0.6625, Validation accuracy:0.7067, Validation sensitivity:0.3541, Validation specificity:0.5578,\n"
          ]
        },
        {
          "output_type": "stream",
          "name": "stderr",
          "text": [
            "100%|██████████| 493/493 [03:41<00:00,  2.22it/s, loss=0.506, accuracy=0.975, sensitivity=0.958, specificity=0.968]\n",
            "100%|██████████| 171/171 [00:18<00:00,  9.28it/s, loss=0.66, accuracy=0.706, sensitivity=0.348, specificity=0.564]\n"
          ]
        },
        {
          "output_type": "stream",
          "name": "stdout",
          "text": [
            "Training epoch [56/200], Training BCE loss:0.5063, Training accuracy:0.9746, Training sensitivity:0.9579, Training specificity:0.9679,                 Validation BCE loss:0.6605, Validation accuracy:0.7062, Validation sensitivity:0.3481, Validation specificity:0.5639,\n"
          ]
        },
        {
          "output_type": "stream",
          "name": "stderr",
          "text": [
            "100%|██████████| 493/493 [03:41<00:00,  2.23it/s, loss=0.507, accuracy=0.971, sensitivity=0.954, specificity=0.962]\n",
            "100%|██████████| 171/171 [00:18<00:00,  9.31it/s, loss=0.66, accuracy=0.702, sensitivity=0.338, specificity=0.571]\n"
          ]
        },
        {
          "output_type": "stream",
          "name": "stdout",
          "text": [
            "Training epoch [57/200], Training BCE loss:0.5074, Training accuracy:0.9708, Training sensitivity:0.9537, Training specificity:0.9621,                 Validation BCE loss:0.6595, Validation accuracy:0.7023, Validation sensitivity:0.3376, Validation specificity:0.5710,\n"
          ]
        },
        {
          "output_type": "stream",
          "name": "stderr",
          "text": [
            "100%|██████████| 493/493 [03:41<00:00,  2.23it/s, loss=0.505, accuracy=0.976, sensitivity=0.959, specificity=0.97]\n",
            "100%|██████████| 171/171 [00:18<00:00,  9.23it/s, loss=0.661, accuracy=0.706, sensitivity=0.346, specificity=0.568]\n"
          ]
        },
        {
          "output_type": "stream",
          "name": "stdout",
          "text": [
            "Training epoch [58/200], Training BCE loss:0.5051, Training accuracy:0.9763, Training sensitivity:0.9593, Training specificity:0.9701,                 Validation BCE loss:0.6614, Validation accuracy:0.7057, Validation sensitivity:0.3464, Validation specificity:0.5683,\n"
          ]
        },
        {
          "output_type": "stream",
          "name": "stderr",
          "text": [
            "100%|██████████| 493/493 [03:41<00:00,  2.23it/s, loss=0.504, accuracy=0.978, sensitivity=0.961, specificity=0.968]\n",
            "100%|██████████| 171/171 [00:18<00:00,  9.25it/s, loss=0.662, accuracy=0.706, sensitivity=0.345, specificity=0.57]"
          ]
        },
        {
          "output_type": "stream",
          "name": "stdout",
          "text": [
            "Training epoch [59/200], Training BCE loss:0.5044, Training accuracy:0.9777, Training sensitivity:0.9608, Training specificity:0.9683,                 Validation BCE loss:0.6620, Validation accuracy:0.7062, Validation sensitivity:0.3447, Validation specificity:0.5698,\n",
            "=> early stopping\n"
          ]
        },
        {
          "output_type": "stream",
          "name": "stderr",
          "text": [
            "\n"
          ]
        }
      ]
    },
    {
      "cell_type": "code",
      "source": [
        "from google.colab import drive\n",
        "drive.mount('/content/drive')"
      ],
      "metadata": {
        "colab": {
          "base_uri": "https://localhost:8080/"
        },
        "id": "1K8r4ZBsP0ac",
        "outputId": "2899c491-06da-4d7c-cf5d-e677862fe568"
      },
      "execution_count": null,
      "outputs": [
        {
          "output_type": "stream",
          "name": "stdout",
          "text": [
            "Mounted at /content/drive\n"
          ]
        }
      ]
    },
    {
      "cell_type": "code",
      "source": [
        "torch.cuda.memory_summary()"
      ],
      "metadata": {
        "colab": {
          "base_uri": "https://localhost:8080/",
          "height": 174
        },
        "id": "hz1tUXUOjNVR",
        "outputId": "dbd3fb33-a80b-44b3-932b-34fe6828facc"
      },
      "execution_count": null,
      "outputs": [
        {
          "output_type": "execute_result",
          "data": {
            "text/plain": [
              "'|===========================================================================|\\n|                  PyTorch CUDA memory summary, device ID 0                 |\\n|---------------------------------------------------------------------------|\\n|            CUDA OOMs: 1            |        cudaMalloc retries: 1         |\\n|===========================================================================|\\n|        Metric         | Cur Usage  | Peak Usage | Tot Alloc  | Tot Freed  |\\n|---------------------------------------------------------------------------|\\n| Allocated memory      |   13340 MB |   13449 MB |  109345 MB |   96005 MB |\\n|       from large pool |   13114 MB |   13380 MB |  108861 MB |   95747 MB |\\n|       from small pool |     225 MB |     225 MB |     483 MB |     258 MB |\\n|---------------------------------------------------------------------------|\\n| Active memory         |   13340 MB |   13449 MB |  109345 MB |   96005 MB |\\n|       from large pool |   13114 MB |   13380 MB |  108861 MB |   95747 MB |\\n|       from small pool |     225 MB |     225 MB |     483 MB |     258 MB |\\n|---------------------------------------------------------------------------|\\n| GPU reserved memory   |   13740 MB |   13740 MB |   26230 MB |   12490 MB |\\n|       from large pool |   13514 MB |   13638 MB |   25996 MB |   12482 MB |\\n|       from small pool |     226 MB |     226 MB |     234 MB |       8 MB |\\n|---------------------------------------------------------------------------|\\n| Non-releasable memory |  409456 KB |    5183 MB |   66967 MB |   66567 MB |\\n|       from large pool |  408923 KB |    5181 MB |   66495 MB |   66095 MB |\\n|       from small pool |     532 KB |       5 MB |     472 MB |     472 MB |\\n|---------------------------------------------------------------------------|\\n| Allocations           |    4346    |    4346    |   11348    |    7002    |\\n|       from large pool |     693    |     693    |    3613    |    2920    |\\n|       from small pool |    3653    |    3653    |    7735    |    4082    |\\n|---------------------------------------------------------------------------|\\n| Active allocs         |    4346    |    4346    |   11348    |    7002    |\\n|       from large pool |     693    |     693    |    3613    |    2920    |\\n|       from small pool |    3653    |    3653    |    7735    |    4082    |\\n|---------------------------------------------------------------------------|\\n| GPU reserved segments |     451    |     451    |     582    |     131    |\\n|       from large pool |     338    |     338    |     465    |     127    |\\n|       from small pool |     113    |     113    |     117    |       4    |\\n|---------------------------------------------------------------------------|\\n| Non-releasable allocs |     204    |     205    |    4026    |    3822    |\\n|       from large pool |     200    |     200    |    1833    |    1633    |\\n|       from small pool |       4    |      68    |    2193    |    2189    |\\n|---------------------------------------------------------------------------|\\n| Oversize allocations  |       0    |       0    |       0    |       0    |\\n|---------------------------------------------------------------------------|\\n| Oversize GPU segments |       0    |       0    |       0    |       0    |\\n|===========================================================================|\\n'"
            ],
            "application/vnd.google.colaboratory.intrinsic+json": {
              "type": "string"
            }
          },
          "metadata": {},
          "execution_count": 6
        }
      ]
    },
    {
      "cell_type": "markdown",
      "source": [
        "## **EVALUATE THE EFFICENT NETWORK MODEL**"
      ],
      "metadata": {
        "id": "vC7XQwcfeTzl"
      }
    },
    {
      "cell_type": "code",
      "source": [
        "def evaluate(model,test_loader):\n",
        "    with torch.no_grad():\n",
        "        counter = 0\n",
        "        pbar = tqdm(total=len(test_loader))\n",
        "        TP,TN,FN,FP = 0,0,0,0\n",
        "        for images, labels in test_loader:\n",
        "            images = images.cuda()\n",
        "            labels = labels.cuda()\n",
        "\n",
        "            output = model(images)\n",
        "            outputs = output.view(-1)\n",
        "            labels = labels.type_as(outputs)\n",
        "            TP_batch,TN_batch,FN_batch,FP_batch = Confusion_matrix2(outputs,labels)\n",
        "            TP += TP_batch\n",
        "            TN += TN_batch\n",
        "            FN += FN_batch\n",
        "            FP += FP_batch\n",
        "            \n",
        "            pbar.update(1)\n",
        "        pbar.close()\n",
        "\n",
        "        accuracy = (TP+TN)/ (TP +TN +FN +FP)\n",
        "        sensitivity = TP / (TP+FN)\n",
        "        specificity = TN / (TN+FP)\n",
        "        precision = TP / (TP+FP)\n",
        "        F1 = (2*sensitivity*precision)/(precision+sensitivity)\n",
        "    torch.cuda.empty_cache()\n",
        "    return accuracy, sensitivity, specificity, precision,F1, TP,TN,FN,FP"
      ],
      "metadata": {
        "id": "YmNrG9MReZmi"
      },
      "execution_count": null,
      "outputs": []
    },
    {
      "cell_type": "code",
      "source": [
        "filename = 7\n",
        "epochs = 200\n",
        "batch_size = 12\n",
        "early_stopping = 30\n",
        "num_workers = 2\n",
        "optimizer = 'Adam'\n",
        "learning_rate = 1e-6\n",
        "momentum = 0.9\n",
        "weight_decay = 1e-4\n",
        "\n",
        "OUTPUT_DIR = '/content/drive/MyDrive/data/Classification/model_output/efficientnetb{}/'.format(filename)\n",
        "TEST_DIR = '/content/drive/MyDrive/data/Efficient_net/test/'\n",
        "CLEAN_TEST_DIR = '/content/drive/MyDrive/data/Efficient_net/clean_test/'\n",
        "LABEL_DIR ='/content/drive/MyDrive/data/Efficient_net/label/'\n",
        "\n",
        "with open(LABEL_DIR+'test.txt','rb') as fp:\n",
        "    test_label = pickle.load(fp)\n",
        "with open(LABEL_DIR+'clean_test.txt','rb') as fp:\n",
        "    clean_test_label = pickle.load(fp)\n",
        "\n",
        "print('-'*20)\n",
        "\n",
        "cudnn.benchmark = True\n",
        "model = EfficientNet.from_pretrained('efficientnet-b{}'.format(filename))\n",
        "\n",
        "#Fine tuning top layers\n",
        "num_ftrs = model._fc.in_features\n",
        "model._fc = nn.Sequential(nn.Linear(num_ftrs,1),\n",
        "                            nn.Sigmoid())\n",
        "\n",
        "if torch.cuda.device_count() > 1:\n",
        "    print(\"Let's use\", torch.cuda.device_count(), \"GPUs!\")\n",
        "    model = nn.DataParallel(model)\n",
        "\n",
        "model.load_state_dict(torch.load(OUTPUT_DIR +'model.pth'))\n",
        "model = model.cuda()\n",
        "\n",
        "# Get image files\n",
        "test_image_paths = load_directories(TEST_DIR)\n",
        "clean_test_image_paths = load_directories(CLEAN_TEST_DIR)\n",
        "\n",
        "test_image_paths.extend(clean_test_image_paths)\n",
        "test_label.extend(clean_test_label)\n",
        "\n",
        "assert len(test_image_paths)==len(test_label), \"Length of test images and test label not same\"\n",
        "print(\"============================TESTING===========================================\")\n",
        "print(\"Cancer nodules:{} Non Cancer nodules:{}\".format(np.sum(test_label),len(test_label)-np.sum(test_label)))\n",
        "print(\"Ratio is {:4f}\".format(np.sum(test_label)/(len(test_label)-np.sum(test_label))))\n",
        "\n",
        "test_dataset = ClassifierDataset(test_image_paths,test_label,Albumentation=False)\n",
        "\n",
        "test_loader = torch.utils.data.DataLoader(\n",
        "    test_dataset,\n",
        "    batch_size=batch_size,\n",
        "    shuffle=False,\n",
        "    pin_memory=True,\n",
        "    drop_last=False,\n",
        "    num_workers=6)\n",
        "\n",
        "log= pd.DataFrame(index=[],columns= ['test_size','accuracy','sensitivity','specificity','TP','TN','FN','FP'])\n",
        "\n",
        "accuracy, sensitivity, specificity, precision,F1, TP,TN,FN,FP = evaluate(model,test_loader)\n",
        "\n",
        "tmp = pd.Series([\n",
        "    len(test_dataset),accuracy, sensitivity, specificity, TP, TN, FN, FP\n",
        "], index=['test_size','accuracy','sensitivity','specificity','TP','TN','FN','FP'])\n",
        "\n",
        "print('Test accuracy:{:.4f}, Test sensitivity:{:.4f}, Testspecificity:{:.4f}'.format(accuracy,sensitivity,specificity))\n",
        "print('Test precision:{:.4f}, Test F1:{:.4f}'.format(precision,F1))\n",
        "log = log.append(tmp,ignore_index=True)\n",
        "log.to_csv(OUTPUT_DIR +'test_result.csv',index=False)\n",
        "print(\"OUTPUT RESULT SAVED AS CSV in\", OUTPUT_DIR)"
      ],
      "metadata": {
        "id": "KLd5WLl1ecFN",
        "colab": {
          "base_uri": "https://localhost:8080/",
          "height": 277,
          "referenced_widgets": [
            "795cea1765bf4cb9ae1c729e7d4a1721",
            "8643ac51ca1741c18bafb31ffe1a99b7",
            "8942583104154e7e9d9de99a6625b676",
            "8e229ea3ab664c97a31ab2ba087dcaba",
            "165e0b995baa407ba463955a8b5ed5af",
            "c65aa5eb8e714d4a9d04d7b17bdc9d69",
            "7bea4e365bd04c7f88f0d98d0cff81e5",
            "794f720d31674e8b9543482aa7f08a87",
            "0fde99d29aa244b2858e189e76f31ffc",
            "d4182664e29c4122b4c8d989732f72be",
            "0119153b87d84dd7bb55196fe951222b"
          ]
        },
        "outputId": "242b0e9e-8221-434f-fa79-0263774d2828"
      },
      "execution_count": null,
      "outputs": [
        {
          "output_type": "stream",
          "name": "stdout",
          "text": [
            "--------------------\n"
          ]
        },
        {
          "output_type": "stream",
          "name": "stderr",
          "text": [
            "Downloading: \"https://github.com/lukemelas/EfficientNet-PyTorch/releases/download/1.0/efficientnet-b7-dcc49843.pth\" to /root/.cache/torch/hub/checkpoints/efficientnet-b7-dcc49843.pth\n"
          ]
        },
        {
          "output_type": "display_data",
          "data": {
            "text/plain": [
              "  0%|          | 0.00/254M [00:00<?, ?B/s]"
            ],
            "application/vnd.jupyter.widget-view+json": {
              "version_major": 2,
              "version_minor": 0,
              "model_id": "795cea1765bf4cb9ae1c729e7d4a1721"
            }
          },
          "metadata": {}
        },
        {
          "output_type": "stream",
          "name": "stdout",
          "text": [
            "Loaded pretrained weights for efficientnet-b7\n"
          ]
        },
        {
          "output_type": "stream",
          "name": "stderr",
          "text": [
            "/usr/local/lib/python3.7/dist-packages/torch/utils/data/dataloader.py:481: UserWarning: This DataLoader will create 6 worker processes in total. Our suggested max number of worker in current system is 4, which is smaller than what this DataLoader is going to create. Please be aware that excessive worker creation might get DataLoader running slow or even freeze, lower the worker number to avoid potential slowness/freeze if necessary.\n",
            "  cpuset_checked))\n"
          ]
        },
        {
          "output_type": "stream",
          "name": "stdout",
          "text": [
            "============================TESTING===========================================\n",
            "Cancer nodules:1189 Non Cancer nodules:972\n",
            "Ratio is 1.223251\n"
          ]
        },
        {
          "output_type": "stream",
          "name": "stderr",
          "text": [
            "100%|██████████| 181/181 [01:37<00:00,  1.86it/s]"
          ]
        },
        {
          "output_type": "stream",
          "name": "stdout",
          "text": [
            "Test accuracy:0.5664, Test sensitivity:0.5257, Testspecificity:0.6163\n",
            "Test precision:0.6263, Test F1:0.5716\n",
            "OUTPUT RESULT SAVED AS CSV in /content/drive/MyDrive/data/Classification/model_output/efficientnetb7/\n"
          ]
        },
        {
          "output_type": "stream",
          "name": "stderr",
          "text": [
            "\n"
          ]
        }
      ]
    },
    {
      "cell_type": "markdown",
      "source": [
        "Certain Methods to employ for optimization.\n",
        "\n",
        "1. Change the Optimizer from Adam to SGD\n",
        "2. Quantization\n",
        "3. Augmentation\n",
        "4. AutoML\n",
        "5. Use Different Pretrained models\n",
        "6. Retrain the model weights with the dataset"
      ],
      "metadata": {
        "id": "gMF1BSz7VwKh"
      }
    }
  ]
}